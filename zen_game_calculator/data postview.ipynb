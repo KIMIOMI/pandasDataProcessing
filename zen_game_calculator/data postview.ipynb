{
 "cells": [
  {
   "cell_type": "code",
   "execution_count": 2,
   "id": "f8ca0ce5",
   "metadata": {},
   "outputs": [],
   "source": [
    "import pandas as pd"
   ]
  },
  {
   "cell_type": "code",
   "execution_count": 3,
   "id": "90be73d5",
   "metadata": {},
   "outputs": [],
   "source": [
    "data = pd.read_excel('zen_story_game_score.xlsx')"
   ]
  },
  {
   "cell_type": "code",
   "execution_count": 23,
   "id": "24a964e2",
   "metadata": {},
   "outputs": [],
   "source": [
    "data588 = data['모든이전카드'][588].replace(\"'\", '').replace('[', '').replace(']', '').replace(' ','').split(',')"
   ]
  },
  {
   "cell_type": "code",
   "execution_count": 25,
   "id": "548fce24",
   "metadata": {},
   "outputs": [
    {
     "data": {
      "text/plain": [
       "420"
      ]
     },
     "execution_count": 25,
     "metadata": {},
     "output_type": "execute_result"
    }
   ],
   "source": [
    "len(data588)"
   ]
  },
  {
   "cell_type": "code",
   "execution_count": 26,
   "id": "b8159484",
   "metadata": {},
   "outputs": [
    {
     "data": {
      "text/plain": [
       "\"현재카드 == ' Lv-28-3-899969dc2b45494cb5f46031c5c8ce81]'\""
      ]
     },
     "execution_count": 26,
     "metadata": {},
     "output_type": "execute_result"
    }
   ],
   "source": [
    "f\"현재카드 == '{i}'\""
   ]
  },
  {
   "cell_type": "code",
   "execution_count": 49,
   "id": "45ee1cd5",
   "metadata": {},
   "outputs": [],
   "source": [
    "작성자리스트 = []\n",
    "for i in data588:\n",
    "    쿼리결과 = data.query(f\"현재카드 == '{i}'\")\n",
    "    index = 쿼리결과.index\n",
    "    작성자 = 쿼리결과['원본작성자'].tolist()\n",
    "    if len(작성자) != 0:\n",
    "        작성자리스트.append(작성자[0])"
   ]
  },
  {
   "cell_type": "code",
   "execution_count": 52,
   "id": "d39b2534",
   "metadata": {},
   "outputs": [],
   "source": [
    "작성자리스트 = list(set(작성자리스트))"
   ]
  },
  {
   "cell_type": "code",
   "execution_count": 55,
   "id": "61b6319b",
   "metadata": {},
   "outputs": [
    {
     "data": {
      "text/plain": [
       "['Wontblanc',\n",
       " '일어나',\n",
       " '진 전',\n",
       " 'Hope_Candy',\n",
       " '크레파스',\n",
       " '명훈 박',\n",
       " '김거녁',\n",
       " '샤 키',\n",
       " 'Wookzizi',\n",
       " 'Hwany',\n",
       " '느릿느릿',\n",
       " 'ing~!',\n",
       " '그리니',\n",
       " 'sungman Kim',\n",
       " 'NON',\n",
       " '온천펭귄',\n",
       " 'BADAK BADAK',\n",
       " '흑9',\n",
       " '전집사 | AOZ',\n",
       " 'stucked',\n",
       " '현진 김',\n",
       " 'Minsang Song',\n",
       " '정민 이',\n",
       " '히로 GM | AOZ',\n",
       " 'ZooKongz',\n",
       " '주한 오',\n",
       " '도옹규운/AOZ',\n",
       " 'min everydayhappy',\n",
       " ' Upapa',\n",
       " 'John Jeong',\n",
       " 'TERON',\n",
       " '또니',\n",
       " '청원',\n",
       " '식이',\n",
       " 'Maple',\n",
       " '영범 권',\n",
       " '_x0008_하시 GM | AOZ']"
      ]
     },
     "execution_count": 55,
     "metadata": {},
     "output_type": "execute_result"
    }
   ],
   "source": [
    "작성자리스트"
   ]
  },
  {
   "cell_type": "code",
   "execution_count": null,
   "id": "d587ab52",
   "metadata": {},
   "outputs": [],
   "source": []
  }
 ],
 "metadata": {
  "kernelspec": {
   "display_name": "Python 3 (ipykernel)",
   "language": "python",
   "name": "python3"
  },
  "language_info": {
   "codemirror_mode": {
    "name": "ipython",
    "version": 3
   },
   "file_extension": ".py",
   "mimetype": "text/x-python",
   "name": "python",
   "nbconvert_exporter": "python",
   "pygments_lexer": "ipython3",
   "version": "3.10.4"
  }
 },
 "nbformat": 4,
 "nbformat_minor": 5
}
