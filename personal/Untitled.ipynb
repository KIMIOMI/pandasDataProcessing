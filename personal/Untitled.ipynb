{
 "cells": [
  {
   "cell_type": "code",
   "execution_count": 45,
   "id": "28927ae0",
   "metadata": {},
   "outputs": [],
   "source": [
    "import numpy as np\n",
    "import pandas as pd\n",
    "from matplotlib import pyplot as plt"
   ]
  },
  {
   "cell_type": "code",
   "execution_count": 59,
   "id": "95a22b8f",
   "metadata": {},
   "outputs": [],
   "source": [
    "구독료 = 4900\n",
    "구독자 = 100000\n",
    "월성장률 = 0.1\n",
    "수수료 = 0.4\n",
    "구독자_월리스트 = []\n",
    "구독자_월리스트.append(구독자)\n",
    "월 = np.linspace(1, 12, 12)"
   ]
  },
  {
   "cell_type": "code",
   "execution_count": 60,
   "id": "2e2da69d",
   "metadata": {},
   "outputs": [],
   "source": [
    "for i in range(1, 12):\n",
    "    구독자_월리스트.append(round(구독자*(1.1**i)))\n",
    "구독자_월리스트 = np.array(구독자_월리스트)\n",
    "월 = np.array(월)"
   ]
  },
  {
   "cell_type": "code",
   "execution_count": 61,
   "id": "025869db",
   "metadata": {
    "scrolled": false
   },
   "outputs": [
    {
     "data": {
      "text/plain": [
       "[<matplotlib.lines.Line2D at 0x2778c490130>]"
      ]
     },
     "execution_count": 61,
     "metadata": {},
     "output_type": "execute_result"
    },
    {
     "data": {
      "image/png": "[encoded data removed]",
      "text/plain": [
       "<Figure size 432x288 with 1 Axes>"
      ]
     },
     "metadata": {
      "needs_background": "light"
     },
     "output_type": "display_data"
    }
   ],
   "source": [
    "plt.plot(월, 구독자_월리스트)"
   ]
  },
  {
   "cell_type": "code",
   "execution_count": 62,
   "id": "8b8b3087",
   "metadata": {},
   "outputs": [
    {
     "data": {
      "text/plain": [
       "array([19600.   , 21560.   , 23716.   , 26087.6  , 28696.36 , 31565.996,\n",
       "       34722.576, 38194.912, 42014.364, 46215.82 , 50837.304, 55921.152])"
      ]
     },
     "execution_count": 62,
     "metadata": {},
     "output_type": "execute_result"
    }
   ],
   "source": [
    "구독자_월리스트 * 구독료 * 수수료 / 10000"
   ]
  },
  {
   "cell_type": "code",
   "execution_count": null,
   "id": "4dd06549",
   "metadata": {},
   "outputs": [],
   "source": []
  }
 ],
 "metadata": {
  "kernelspec": {
   "display_name": "Python 3 (ipykernel)",
   "language": "python",
   "name": "python3"
  },
  "language_info": {
   "codemirror_mode": {
    "name": "ipython",
    "version": 3
   },
   "file_extension": ".py",
   "mimetype": "text/x-python",
   "name": "python",
   "nbconvert_exporter": "python",
   "pygments_lexer": "ipython3",
   "version": "3.10.2"
  }
 },
 "nbformat": 4,
 "nbformat_minor": 5
}
